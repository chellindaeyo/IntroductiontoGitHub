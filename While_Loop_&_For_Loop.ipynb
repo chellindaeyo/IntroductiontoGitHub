{
  "nbformat": 4,
  "nbformat_minor": 0,
  "metadata": {
    "colab": {
      "provenance": []
    },
    "kernelspec": {
      "name": "python3",
      "display_name": "Python 3"
    },
    "language_info": {
      "name": "python"
    }
  },
  "cells": [
    {
      "cell_type": "code",
      "execution_count": 1,
      "metadata": {
        "colab": {
          "base_uri": "https://localhost:8080/"
        },
        "id": "qCOD43fu8C3x",
        "outputId": "7d256d47-ccbf-4d90-c941-220b19a3ccd3"
      },
      "outputs": [
        {
          "output_type": "stream",
          "name": "stdout",
          "text": [
            "Number = 0\n",
            "Number = 1\n",
            "Number = 2\n",
            "Number = 3\n",
            "Number = 4\n"
          ]
        }
      ],
      "source": [
        "for x in range(5):\n",
        "  print(\"Number = \" + str(x))"
      ]
    }
  ]
}